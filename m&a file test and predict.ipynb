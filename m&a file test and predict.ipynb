{
  "nbformat": 4,
  "nbformat_minor": 0,
  "metadata": {
    "colab": {
      "provenance": []
    },
    "kernelspec": {
      "name": "python3",
      "display_name": "Python 3"
    },
    "language_info": {
      "name": "python"
    }
  },
  "cells": [
    {
      "cell_type": "code",
      "execution_count": null,
      "metadata": {
        "colab": {
          "base_uri": "https://localhost:8080/"
        },
        "id": "T8QfYmGHxUr4",
        "outputId": "4b710a1c-aed0-4cc7-b9c0-dad90a527e68"
      },
      "outputs": [
        {
          "output_type": "execute_result",
          "data": {
            "text/plain": [
              "array([[ 131,  141],\n",
              "       [   8, 2454]])"
            ]
          },
          "metadata": {},
          "execution_count": 9
        }
      ],
      "source": [
        "# Using past financial indicator and transaction records of ASX listed companies to train and test the robustness of the model\n",
        "\n",
        "import pandas as pd\n",
        "import numpy as np\n",
        "\n",
        "# Import training and testing data\n",
        "raw_data = pd.read_excel(\"/content/ml_raw_data.xlsx\")\n",
        "\n",
        "# Convert the categories to ONLY two - transaction happended and not happended\n",
        "raw_data = raw_data.replace(to_replace=['BUY', 'SELL', 'BUY&SELL'], value='DEAL')\n",
        "\n",
        "# Preparing the Feature matrix input\n",
        "X = raw_data.iloc[:,1:12].values\n",
        "\n",
        "# Preparing the dependent variable\n",
        "y = raw_data.iloc[:,12].values\n",
        "\n",
        "# Converting categorical variable into numberical variable\n",
        "from sklearn.preprocessing import LabelEncoder\n",
        "labelencoder_y = LabelEncoder()\n",
        "y = labelencoder_y.fit_transform(y)\n",
        "\n",
        "# Split the data between train dataset and test dataset\n",
        "from sklearn.model_selection import train_test_split\n",
        "X_train, X_test, y_train, y_test = train_test_split(X, y, test_size = 0.2, random_state = 0)\n",
        "\n",
        "# Feature scaling\n",
        "from sklearn.preprocessing import StandardScaler\n",
        "sc_X = StandardScaler()\n",
        "X_train = sc_X.fit_transform(X_train)\n",
        "X_test = sc_X.transform(X_test)\n",
        "\n",
        "# Train the machine learning algorithum\n",
        "from sklearn.ensemble import RandomForestClassifier\n",
        "classifier = RandomForestClassifier(n_estimators = 300, criterion = 'entropy', random_state = 0)\n",
        "classifier.fit(X_train, y_train)\n",
        "\n",
        "# Predicting on test dataset\n",
        "y_pred = classifier.predict(X_test)\n",
        "\n",
        "# Generate confusion matrix to test the robustness of the model\n",
        "from sklearn.metrics import confusion_matrix\n",
        "cm = confusion_matrix(y_test, y_pred)\n",
        "cm\n",
        "\n",
        "\n",
        "\n"
      ]
    },
    {
      "cell_type": "code",
      "source": [
        "# The code intents to using Scikit-Learn to predict whether a transaction will happen based on machine learning from past transactions\n",
        "# Random Forest Classification is used for machine learning, and Pandas was used for preparing the data.\n",
        "\n",
        "import pandas as pd\n",
        "\n",
        "\n",
        "# Import and prepare the data\n",
        "\n",
        "import pandas as pd\n",
        "\n",
        "raw = pd.read_excel(\n",
        "    \"FY18_Features.xlsx\",\n",
        "    sheet_name=\"Sheet1\",\n",
        "    na_values=['NM', '(Invalid Identifier)'],\n",
        "    index_col='Ticker'\n",
        ")\n",
        "raw_data = raw_data.replace(to_replace=['BUY', 'SELL', 'BUY&SELL'], value='DEAL')\n",
        "X = raw_data.iloc[:,1:12].values\n",
        "X_test = raw.iloc[:,0:11].values\n",
        "y = raw_data.iloc[:,12].values\n",
        "ticker = raw.index\n",
        "col = raw.columns\n",
        "\n",
        "# Get shape informaiton of the feature_matrix\n",
        "X_test.shape, X.shape\n",
        "\n",
        "# Converting categorical data into numerical\n",
        "from sklearn.preprocessing import LabelEncoder\n",
        "labelencoder_y = LabelEncoder()\n",
        "y = labelencoder_y.fit_transform(y)\n",
        "\n",
        "# Feature scaling\n",
        "from sklearn.preprocessing import StandardScaler\n",
        "sc_X = StandardScaler()\n",
        "X = sc_X.fit_transform(X)\n",
        "X_test = sc_X.transform(X_test)\n",
        "\n",
        "# Training the machine learning\n",
        "from sklearn.ensemble import RandomForestClassifier\n",
        "classifier = RandomForestClassifier(n_estimators = 100, criterion = 'entropy', random_state = 0)\n",
        "classifier.fit(X, y)\n",
        "\n",
        "# Predict based on machine learning\n",
        "y_pred = classifier.predict(X_test)\n",
        "\n",
        "# Combine the Feature matrix and Prediction result and write to excel format.\n",
        "result = pd.DataFrame(data=X_test, index=ticker, columns=col)\n",
        "result['Predict'] = y_pred\n",
        "result.to_excel(r\"/content/sample_data\\result.xlsx\")\n",
        "\n",
        "\n",
        "\n",
        "\n"
      ],
      "metadata": {
        "id": "7WLW9NOCx1OA"
      },
      "execution_count": null,
      "outputs": []
    }
  ]
}